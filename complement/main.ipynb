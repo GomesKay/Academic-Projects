{
 "cells": [
  {
   "cell_type": "code",
   "execution_count": null,
   "id": "78358f3e",
   "metadata": {},
   "outputs": [],
   "source": [
    "import random\n",
    "\n",
    "def game():\n",
    "  print(\"Bem-vindo ao Jogo Complemento de 2 👾\")\n",
    "  print(\"Responda os seguintes exercícios para pontuar\")\n",
    "\n",
    "  score = 0\n",
    "  attempts = 5\n",
    "\n",
    "  for att in range(attempts):\n",
    "    bits = 8\n",
    "    binary = bin(random.randint(-100, 100))[3:]\n",
    "\n",
    "    print(f\"{att + 1}° Exercício - digite a resposta do complemento de 2 do {binary} em até {bits} bits\")\n",
    "    response = int(input(\"Responda: \"))\n",
    "    correctAnswer = int(binary, 2)\n",
    "\n",
    "    if response == correctAnswer:\n",
    "      print(\"+1 Ponto\")\n",
    "      score += 1\n",
    "    else:\n",
    "      print(f\"Errado! A resposta era {correctAnswer}\")\n",
    "  \n",
    "  print(f\"Sua pontuação é: {score}/{attempts}\")\n",
    "\n",
    "game()\n"
   ]
  }
 ],
 "metadata": {
  "kernelspec": {
   "display_name": "Python 3",
   "language": "python",
   "name": "python3"
  },
  "language_info": {
   "codemirror_mode": {
    "name": "ipython",
    "version": 3
   },
   "file_extension": ".py",
   "mimetype": "text/x-python",
   "name": "python",
   "nbconvert_exporter": "python",
   "pygments_lexer": "ipython3",
   "version": "3.13.1"
  }
 },
 "nbformat": 4,
 "nbformat_minor": 5
}
