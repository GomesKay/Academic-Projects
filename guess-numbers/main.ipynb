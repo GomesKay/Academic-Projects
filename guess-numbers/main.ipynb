{
 "cells": [
  {
   "cell_type": "code",
   "execution_count": null,
   "metadata": {},
   "outputs": [],
   "source": [
    "import random\n",
    "\n",
    "def game():\n",
    "  print(\"Jogo de Adivinhação de Números\")\n",
    "  print(\"Adivinhe os números entre 1 e 100\")\n",
    "\n",
    "  attempts = 0\n",
    "  maxAttempts = 15\n",
    "  number = random.randint(1, 100)\n",
    "\n",
    "  while attempts < maxAttempts:\n",
    "    response = int(input(\"Tente adivinhar...\"))\n",
    "\n",
    "    if (number == response):\n",
    "      print(f\"Parábens!! Você acertou o número sorteado ({number}) 🎉\")\n",
    "      break\n",
    "    elif (response < number):\n",
    "      print(\"O número é maior\")\n",
    "      attempts += 1\n",
    "    elif (response > number):\n",
    "      print(\"O número é menor\")\n",
    "      attempts += 1\n",
    "\n",
    "game()\n"
   ]
  }
 ],
 "metadata": {
  "language_info": {
   "name": "python"
  }
 },
 "nbformat": 4,
 "nbformat_minor": 5
}
